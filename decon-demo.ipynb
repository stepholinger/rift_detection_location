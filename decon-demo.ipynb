{
 "cells": [
  {
   "cell_type": "code",
   "execution_count": 2,
   "id": "098319b0",
   "metadata": {},
   "outputs": [
    {
     "data": {
      "text/plain": [
       "['G_HHR',\n",
       " 'G_HHZ',\n",
       " 'dGdt_HHR',\n",
       " 'dGdt_HHZ',\n",
       " 'ne_margin_HHR_stack',\n",
       " 'ne_margin_HHZ_stack',\n",
       " 'rift_margin_HHR_stack',\n",
       " 'rift_margin_HHZ_stack',\n",
       " 'rift_tip_HHR_stack',\n",
       " 'rift_tip_HHZ_stack',\n",
       " 'stf']"
      ]
     },
     "execution_count": 2,
     "metadata": {},
     "output_type": "execute_result"
    }
   ],
   "source": [
    "import h5py\n",
    "import numpy as np\n",
    "from scipy.fft import fft, ifft, fftfreq\n",
    "\n",
    "ds = h5py.File('stacks_and_modeled_seismograms.h5')\n",
    "list(ds['/'])"
   ]
  },
  {
   "cell_type": "code",
   "execution_count": 5,
   "id": "eb72d070",
   "metadata": {},
   "outputs": [],
   "source": [
    "g = np.array(ds['/G_HHZ']).flatten()\n",
    "z = np.array(ds['/ne_margin_HHZ_stack']).flatten()"
   ]
  },
  {
   "cell_type": "code",
   "execution_count": 10,
   "id": "8ed28c8a",
   "metadata": {},
   "outputs": [],
   "source": [
    "gf = fft(g)\n",
    "zf = fft(z)\n",
    "\n",
    "answer = ifft(zf[0:1050]/gf)"
   ]
  },
  {
   "cell_type": "code",
   "execution_count": 12,
   "id": "4675c4f6",
   "metadata": {},
   "outputs": [
    {
     "name": "stderr",
     "output_type": "stream",
     "text": [
      "/home/bpl7/.local/lib/python3.9/site-packages/numpy/core/_asarray.py:83: ComplexWarning: Casting complex values to real discards the imaginary part\n",
      "  return array(a, dtype, copy=False, order=order)\n"
     ]
    },
    {
     "data": {
      "text/plain": [
       "(100.0, 500.0)"
      ]
     },
     "execution_count": 12,
     "metadata": {},
     "output_type": "execute_result"
    },
    {
     "data": {
      "image/png": "[encoded data removed]",
      "text/plain": [
       "<Figure size 432x288 with 1 Axes>"
      ]
     },
     "metadata": {
      "needs_background": "light"
     },
     "output_type": "display_data"
    }
   ],
   "source": [
    "import matplotlib.pyplot as plt\n",
    "plt.plot(answer)\n",
    "plt.xlim([100, 500])"
   ]
  },
  {
   "cell_type": "code",
   "execution_count": null,
   "id": "a7fa9f57",
   "metadata": {},
   "outputs": [],
   "source": [
    "# Use this for plotting:\n",
    "\n",
    "N = len(z)\n",
    "T = tr.stats.delta\n",
    "\n",
    "yf = fft(new_tr.data)\n",
    "xf = fftfreq(N, T)[:N//2]\n",
    "ya = 2.0/N * np.abs(yf[0:N//2])"
   ]
  }
 ],
 "metadata": {
  "kernelspec": {
   "display_name": "Python 3",
   "language": "python",
   "name": "python3"
  },
  "language_info": {
   "codemirror_mode": {
    "name": "ipython",
    "version": 3
   },
   "file_extension": ".py",
   "mimetype": "text/x-python",
   "name": "python",
   "nbconvert_exporter": "python",
   "pygments_lexer": "ipython3",
   "version": "3.9.2"
  }
 },
 "nbformat": 4,
 "nbformat_minor": 5
}
