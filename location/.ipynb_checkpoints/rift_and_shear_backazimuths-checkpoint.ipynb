{
 "cells": [
  {
   "cell_type": "code",
   "execution_count": 1,
   "id": "688726c4-0f0c-49ed-8584-33590054a647",
   "metadata": {},
   "outputs": [],
   "source": [
    "import h5py\n",
    "import numpy as np\n",
    "from datetime import datetime\n",
    "import matplotlib.pyplot as plt"
   ]
  },
  {
   "cell_type": "code",
   "execution_count": 2,
   "id": "71969cb5-a579-4ec4-b804-9d4a62eabc5c",
   "metadata": {},
   "outputs": [],
   "source": [
    "# set path\n",
    "path = \"/home/setholinger/Documents/Projects/PIG/detections/templateMatch/multiTemplate/run3/\"\n",
    "\n",
    "# read in backazimuths for catalog\n",
    "azimuth_file = h5py.File(path + \"event_backazimuths.h5\",\"r\")\n",
    "event_backazimuths = np.array(list(azimuth_file[\"weighted_circular_average_event_backazimuths\"]))\n",
    "azimuth_file.close()\n",
    "\n",
    "# read clustering results to get dispersive events\n",
    "num_clusters = 2\n",
    "cluster = 1\n",
    "clust_file = h5py.File(path + \"short_3D_clustering/modified_k_shape/\" + str(num_clusters) + \"/\" + str(num_clusters) + \"_cluster_predictions_0.05-1Hz.h5\",\"r\")\n",
    "pred = np.array(list(clust_file[\"cluster_index\"]))\n",
    "clust_file.close()\n",
    "\n",
    "# read detection times\n",
    "time_file = h5py.File(path + \"detection_times.h5\",\"r\")\n",
    "det_times = np.array(list(time_file[\"times\"]))\n",
    "time_file.close()"
   ]
  },
  {
   "cell_type": "code",
   "execution_count": 3,
   "id": "5614c873-78da-475a-9b36-8e2f88b4c9fa",
   "metadata": {},
   "outputs": [],
   "source": [
    "# set baz range for rift, shear and mislocated events\n",
    "rift_baz = [150,290]\n",
    "shear_baz = [290,30+360]\n",
    "flip_baz = [30,150]"
   ]
  },
  {
   "cell_type": "code",
   "execution_count": 4,
   "id": "bbab91e6-becc-4db6-b0cf-e413c5fd3626",
   "metadata": {},
   "outputs": [],
   "source": [
    "# get backazimuths for cluster of dispersive events\n",
    "cluster_backazimuths = event_backazimuths[pred==cluster]\n",
    "cluster_times = det_times[pred==cluster]"
   ]
  },
  {
   "cell_type": "code",
   "execution_count": 5,
   "id": "c62e9dee-db5b-447f-a00c-1e7bdbaa9bde",
   "metadata": {},
   "outputs": [],
   "source": [
    "# add 180 degrees to misloacted \"east\" events\n",
    "for i in range(len(cluster_backazimuths)):\n",
    "    if cluster_backazimuths[i] > flip_baz[0] and cluster_backazimuths[i] < flip_baz[1]:\n",
    "        cluster_backazimuths[i] = cluster_backazimuths[i] + 180"
   ]
  },
  {
   "cell_type": "code",
   "execution_count": 6,
   "id": "2d2455bf-649f-4c0c-b147-ba6be8ba8d22",
   "metadata": {},
   "outputs": [],
   "source": [
    "# separate rift and shear margin events, saving event backazimuths and event times\n",
    "rift_times = []\n",
    "rift_backazimuths = []\n",
    "shear_times = []\n",
    "shear_backazimuths = []\n",
    "nan_backazimuths = []\n",
    "nan_times = []\n",
    "for i in range(len(cluster_times)):\n",
    "    if cluster_backazimuths[i] > rift_baz[0] and cluster_backazimuths[i] < rift_baz[1]:\n",
    "        rift_times.append(cluster_times[i])\n",
    "        rift_backazimuths.append(cluster_backazimuths[i])\n",
    "    elif cluster_backazimuths[i] > shear_baz[0] and cluster_backazimuths[i] < shear_baz[1]:\n",
    "        shear_times.append(cluster_times[i])\n",
    "        shear_backazimuths.append(cluster_backazimuths[i])\n",
    "    elif cluster_backazimuths[i] + 360 < shear_baz[1]:\n",
    "        shear_times.append(cluster_times[i])\n",
    "        shear_backazimuths.append(cluster_backazimuths[i])\n",
    "    elif np.isnan(cluster_backazimuths[i]) == 1:\n",
    "        nan_times.append(cluster_times[i])\n",
    "        nan_backazimuths.append(cluster_backazimuths[i])"
   ]
  },
  {
   "cell_type": "code",
   "execution_count": 9,
   "id": "b172df5a-cb4e-495f-a063-26a2e9a53d9b",
   "metadata": {},
   "outputs": [],
   "source": [
    "# save results into h5 file\n",
    "out_file = h5py.File(path + \"short_3D_clustering/modified_k_shape/\" + str(num_clusters) + \"/rift_and_shear_backazimuths.h5\",\"a\")\n",
    "out_file.create_dataset(\"rift_backazimuths\",data=rift_backazimuths)\n",
    "out_file.create_dataset(\"rift_times\",data=rift_times)\n",
    "out_file.create_dataset(\"shear_backazimuths\",data=shear_backazimuths)\n",
    "out_file.create_dataset(\"shear_times\",data=shear_times)\n",
    "out_file.create_dataset(\"nan_backazimuths\",data=shear_backazimuths)\n",
    "out_file.create_dataset(\"nan_times\",data=shear_times)\n",
    "out_file.close()"
   ]
  }
 ],
 "metadata": {
  "kernelspec": {
   "display_name": "Python 3",
   "language": "python",
   "name": "python3"
  },
  "language_info": {
   "codemirror_mode": {
    "name": "ipython",
    "version": 3
   },
   "file_extension": ".py",
   "mimetype": "text/x-python",
   "name": "python",
   "nbconvert_exporter": "python",
   "pygments_lexer": "ipython3",
   "version": "3.7.10"
  }
 },
 "nbformat": 4,
 "nbformat_minor": 5
}
