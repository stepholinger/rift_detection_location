{
 "cells": [
  {
   "cell_type": "code",
   "execution_count": 1,
   "id": "afe3f73a-f76f-4f02-84b4-4658662301ba",
   "metadata": {},
   "outputs": [],
   "source": [
    "# notebook to investigate basic characteristics of May 9 riftquake"
   ]
  },
  {
   "cell_type": "code",
   "execution_count": 2,
   "id": "2c080c30-9045-479c-ad4d-0d9e0fabd09b",
   "metadata": {},
   "outputs": [],
   "source": [
    "import numpy as np\n",
    "import obspy\n",
    "import matplotlib.pyplot as plt"
   ]
  },
  {
   "cell_type": "code",
   "execution_count": 15,
   "id": "03c0e43e-b589-435e-90b1-2bba69646565",
   "metadata": {},
   "outputs": [],
   "source": [
    "# set path and data parameters\n",
    "path = \"/media/Data/Data/PIG/\"\n",
    "stat = \"PIG*\"\n",
    "chans = \"HH*\"\n",
    "\n",
    "# set day of interest\n",
    "year = \"2012\"\n",
    "month = \"05\"\n",
    "day = \"09\"\n",
    "\n",
    "# read in traces without instrument response removed\n",
    "files = path + \"MSEED/raw/\" + stat + \"/\" + chans + \"/*\" + chans + \"__\" + year + month + day + \"T000000Z__\" + \"*\"\n",
    "st = obspy.read(files)"
   ]
  },
  {
   "cell_type": "code",
   "execution_count": 16,
   "id": "25f8e8ab-aa7e-4be1-922d-3fddf8121e55",
   "metadata": {},
   "outputs": [],
   "source": [
    "# basic preprocessing\n",
    "st.detrend(\"demean\")\n",
    "st.detrend(\"linear\")\n",
    "st.taper(max_percentage=0.00025, max_length=20.)\n",
    "\n",
    "# copy stream\n",
    "st_low = st.copy()"
   ]
  },
  {
   "cell_type": "code",
   "execution_count": 17,
   "id": "1956fc2e-aa81-4609-b344-f9fecbff0e6e",
   "metadata": {},
   "outputs": [],
   "source": [
    "# set path to XML response file\n",
    "pathXML = path + \"XML/\" + chans + \"/*\" + stat + \".xml\"\n",
    "inv = obspy.read_inventory(pathXML)\n",
    "\n",
    "# set frequency bands for IR removal\n",
    "freq = [1/2000,1/1000,45,50]\n",
    "freq_low = [1/20000,1/10000,45,50]"
   ]
  },
  {
   "cell_type": "code",
   "execution_count": null,
   "id": "a18deb60-f42e-4de3-a660-0e043b853bab",
   "metadata": {},
   "outputs": [],
   "source": [
    "# remove instrumental response to velocity\n",
    "st.remove_response(inventory=inv,pre_filt=freq,output=\"VEL\")\n",
    "st_low.remove_response(inventory=inv,pre_filt=freq_low,output=\"VEL\")"
   ]
  },
  {
   "cell_type": "code",
   "execution_count": null,
   "id": "9285efdc-a8da-4a79-b833-71897b429f00",
   "metadata": {},
   "outputs": [],
   "source": [
    "# make copies for convenience\n",
    "st_copy = st.copy()\n",
    "st_low_copy = st_low.copy()"
   ]
  },
  {
   "cell_type": "code",
   "execution_count": null,
   "id": "d869ed1c-ddff-45cb-843a-916ca733dd23",
   "metadata": {},
   "outputs": [],
   "source": [
    "# reset traces\n",
    "st = st_copy\n",
    "st_low = st_low_copy"
   ]
  },
  {
   "cell_type": "code",
   "execution_count": null,
   "id": "a7fbfa3c-9c58-4c08-a77f-7f380b5e4f95",
   "metadata": {},
   "outputs": [],
   "source": [
    "# rotate velocity seismogram to calculated backazimuth for May 9 riftquake and report max amplitudes\n",
    "st.rotate(method=\"NE->RT\", back_azimuth=250)\n",
    "st_low.rotate(method=\"NE->RT\", back_azimuth=250) \n",
    "print(\"Maximum \" + st[0].stats.channel + \" velocity \" + str(freq) + \": \" + str(max(abs(st[0].data))) + \" m/s\")\n",
    "print(\"Maximum \" + st[1].stats.channel + \" velocity \" + str(freq) + \": \" + str(max(abs(st[1].data))) + \" m/s\")\n",
    "print(\"Maximum \" + st[2].stats.channel + \" velocity \" + str(freq) + \": \" + str(max(abs(st[2].data))) + \" m/s\")\n",
    "print(\"Maximum \" + st_low[0].stats.channel + \" velocity \" + str(freq) + \": \" + str(max(abs(st_low[0].data))) + \" m/s\")\n",
    "print(\"Maximum \" + st_low[1].stats.channel + \" velocity \" + str(freq) + \": \" + str(max(abs(st_low[1].data))) + \" m/s\")\n",
    "print(\"Maximum \" + st_low[2].stats.channel + \" velocity \" + str(freq) + \": \" + str(max(abs(st_low[2].data))) + \" m/s\")"
   ]
  },
  {
   "cell_type": "code",
   "execution_count": null,
   "id": "e1f72a1e-1d00-4c8f-b6ae-af993cd4b561",
   "metadata": {},
   "outputs": [],
   "source": [
    "# make basic plots of entire day\n",
    "st.plot(equal_scale=False);\n",
    "st_low.plot(equal_scale=False);\n",
    "\n",
    "# make basic plots of 17:00 onward\n",
    "st.plot(starttime=st[0].stats.starttime+17*60*60,equal_scale=False);\n",
    "st_low.plot(starttime=st[0].stats.starttime+17*60*60,equal_scale=False);"
   ]
  },
  {
   "cell_type": "code",
   "execution_count": null,
   "id": "76887f27-2900-4510-ac10-6bca57636ab8",
   "metadata": {},
   "outputs": [],
   "source": [
    "# # get sample values corresponding to 18:00 and 20:00\n",
    "start_sample = int(st[2].stats.sampling_rate*60*60*18)\n",
    "end_sample = int(st[2].stats.sampling_rate*60*60*20)+1\n",
    "\n",
    "# make plot of spectra\n",
    "fig, ax = plt.subplots(len(st),figsize=(10,10))\n",
    "for i in range(len(st)):\n",
    "    spectra = abs(np.fft.rfft(st[i].data[start_sample:end_sample]))\n",
    "    f = np.fft.fftfreq(end_sample-start_sample, d=1/st[i].stats.sampling_rate)\n",
    "    power = np.square(spectra)\n",
    "    psd = power/(f[1]-f[0])\n",
    "    ax[i].plot(f[:len(f)//2+1],psd)\n",
    "    ax[i].set_xscale('log')\n",
    "    ax[i].set_yscale('log')\n",
    "    ax[i].set_xlabel('Frequency [Hz]')\n",
    "    ax[i].set_ylabel('PSD [$(m/s)^2$/Hz]')\n",
    "    ax[i].title.set_text(st_low[i].stats.channel)\n",
    "    \n",
    "    # report dominant period\n",
    "    print(\"Dominant \" + st[i].stats.channel + \" period \" + str(freq) + \": \" + str(round(1/f[np.argmax(psd)])) + \" s\")\n",
    "    \n",
    "plt.suptitle(\"PSD for each component \" + str(freq))\n",
    "plt.tight_layout() \n",
    "plt.show()"
   ]
  },
  {
   "cell_type": "code",
   "execution_count": null,
   "id": "2f0a47ee-9ae9-4fd1-b075-3f130e178971",
   "metadata": {},
   "outputs": [],
   "source": [
    "# report dominant periods\n",
    "print(\"Dominant \" + st[1].stats.channel + \" period \" + str(freq) + \": \" + str(max(abs(st[1].data))) + \" m/s\")\n",
    "print(\"Dominant \" + st[2].stats.channel + \" period \" + str(freq) + \": \" + str(max(abs(st[2].data))) + \" m/s\")"
   ]
  },
  {
   "cell_type": "code",
   "execution_count": null,
   "id": "fa3f0ec5-00e0-483a-8093-f1582dffd099",
   "metadata": {},
   "outputs": [],
   "source": [
    "# make plot of lower-frequency spectra\n",
    "fig, ax = plt.subplots(len(st_low),figsize=(10,10))\n",
    "for i in range(len(st_low)):\n",
    "    spectra = abs(np.fft.rfft(st_low[i].data[start_sample:end_sample]))\n",
    "    f = np.fft.fftfreq(end_sample-start_sample, d=1/st_low[i].stats.sampling_rate)\n",
    "    power = np.square(spectra)\n",
    "    psd = power/(f[1]-f[0])\n",
    "    ax[i].plot(f[:len(f)//2+1],psd)\n",
    "    ax[i].set_xscale('log')\n",
    "    ax[i].set_yscale('log')\n",
    "    ax[i].set_xlabel('Frequency [Hz]')\n",
    "    ax[i].set_ylabel('PSD [$(m/s)^2$/Hz]')\n",
    "    ax[i].title.set_text(st_low[i].stats.channel)\n",
    "    \n",
    "    # report dominant period\n",
    "    print(\"Dominant \" + st_low[i].stats.channel + \" period \" + str(freq) + \": \" + str(round(1/f[np.argmax(psd)])) + \" s\")\n",
    "    \n",
    "plt.suptitle(\"PSD for each component \" + str(freq_low))\n",
    "plt.tight_layout() \n",
    "plt.show()"
   ]
  },
  {
   "cell_type": "code",
   "execution_count": null,
   "id": "e1e52134-ae04-4826-a370-669d5bec493b",
   "metadata": {},
   "outputs": [],
   "source": []
  }
 ],
 "metadata": {
  "kernelspec": {
   "display_name": "Python 3",
   "language": "python",
   "name": "python3"
  },
  "language_info": {
   "codemirror_mode": {
    "name": "ipython",
    "version": 3
   },
   "file_extension": ".py",
   "mimetype": "text/x-python",
   "name": "python",
   "nbconvert_exporter": "python",
   "pygments_lexer": "ipython3",
   "version": "3.7.10"
  }
 },
 "nbformat": 4,
 "nbformat_minor": 5
}
