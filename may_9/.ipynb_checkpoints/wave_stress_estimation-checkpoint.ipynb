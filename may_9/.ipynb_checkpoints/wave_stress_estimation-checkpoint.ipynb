{
 "cells": [
  {
   "cell_type": "code",
   "execution_count": null,
   "id": "afe3f73a-f76f-4f02-84b4-4658662301ba",
   "metadata": {},
   "outputs": [],
   "source": [
    "# notebook to get max values from riftquake seismograms and calculate max flexural and extensional stresses using the relations in Lipovksy 2018"
   ]
  },
  {
   "cell_type": "code",
   "execution_count": 33,
   "id": "2c080c30-9045-479c-ad4d-0d9e0fabd09b",
   "metadata": {},
   "outputs": [],
   "source": [
    "import obspy"
   ]
  },
  {
   "cell_type": "code",
   "execution_count": 34,
   "id": "03c0e43e-b589-435e-90b1-2bba69646565",
   "metadata": {},
   "outputs": [],
   "source": [
    "# set path and data parameters\n",
    "path = \"/media/Data/Data/PIG/\"\n",
    "stat = \"PIG2\"\n",
    "chans = \"HH*\"\n",
    "\n",
    "# set day of interest\n",
    "year = \"2012\"\n",
    "month = \"05\"\n",
    "day = \"09\"\n",
    "\n",
    "# read in traces without instrument response removed\n",
    "files = path + \"MSEED/raw/\" + stat + \"/\" + chans + \"/*\" + chans + \"__\" + year + month + day + \"T000000Z__\" + \"*\"\n",
    "st = obspy.read(files)"
   ]
  },
  {
   "cell_type": "code",
   "execution_count": 49,
   "id": "25f8e8ab-aa7e-4be1-922d-3fddf8121e55",
   "metadata": {},
   "outputs": [],
   "source": [
    "# basic preprocessing\n",
    "st.detrend(\"demean\")\n",
    "st.detrend(\"linear\")\n",
    "st.taper(max_percentage=0.00025, max_length=20.)\n",
    "\n",
    "# copy stream\n",
    "st_vel = st.copy()\n",
    "st_acc = st.copy()\n",
    "st_disp = st.copy()"
   ]
  },
  {
   "cell_type": "code",
   "execution_count": 36,
   "id": "1956fc2e-aa81-4609-b344-f9fecbff0e6e",
   "metadata": {},
   "outputs": [],
   "source": [
    "# set path to XML response file\n",
    "pathXML = path + \"XML/\" + chans + \"/*\" + stat + \".xml\"\n",
    "inv = obspy.read_inventory(pathXML)\n",
    "\n",
    "# set frequency band for IR removal\n",
    "freq = [1/2000,1/1000,45,50]"
   ]
  },
  {
   "cell_type": "code",
   "execution_count": 37,
   "id": "d794151a-ea5d-4e41-a42a-2b2ee0add7f0",
   "metadata": {},
   "outputs": [
    {
     "name": "stdout",
     "output_type": "stream",
     "text": [
      "Maximum HHE acceleration: 0.000454140172834 m/s^2\n",
      "Maximum HHN acceleration: 0.000529000580907 m/s^2\n",
      "Maximum HHZ acceleration: 0.000347660460204 m/s^2\n"
     ]
    }
   ],
   "source": [
    "# remove instrumental response to acceleration for flexural wave stress estimation\n",
    "st_acc.remove_response(inventory=inv,pre_filt=freq,output=\"ACC\")\n",
    "print(\"Maximum \" + st_acc[0].stats.channel + \" acceleration: \" + str(max(abs(st_acc[0].data))) + \" m/s^2\")\n",
    "print(\"Maximum \" + st_acc[1].stats.channel + \" acceleration: \" + str(max(abs(st_acc[1].data))) + \" m/s^2\")\n",
    "print(\"Maximum \" + st_acc[2].stats.channel + \" acceleration: \" + str(max(abs(st_acc[2].data))) + \" m/s^2\")"
   ]
  },
  {
   "cell_type": "code",
   "execution_count": 42,
   "id": "39717c0c-2714-45a1-be71-0ee35b23311a",
   "metadata": {},
   "outputs": [
    {
     "name": "stdout",
     "output_type": "stream",
     "text": [
      "Maximum flexural stress: 251.011552373 kPa\n"
     ]
    }
   ],
   "source": [
    "# calculate E', which has unit of kPa\n",
    "E = 9.3 * 1e6\n",
    "v = 0.33\n",
    "E_prime = E/(1-v**2)\n",
    "\n",
    "# set water depth to bedmap averaged value and ice thickness to average value from Shean 2018 ice thickness\n",
    "H = 590\n",
    "h = 400\n",
    "g = 9.8\n",
    "\n",
    "# estimate magnitude of maximum flexural wave stresses using vertical acceleration seismogram\n",
    "sigma_f = (E_prime*h)/(g*H)*max(abs(st_acc[2].data))\n",
    "\n",
    "# print the estimated stress\n",
    "print(\"Maximum flexural stress: \" + str(sigma_f) + \" kPa\")"
   ]
  },
  {
   "cell_type": "code",
   "execution_count": 40,
   "id": "a18deb60-f42e-4de3-a660-0e043b853bab",
   "metadata": {},
   "outputs": [
    {
     "data": {
      "text/plain": [
       "3 Trace(s) in Stream:\n",
       "XC.PIG2..HHE | 2012-05-09T00:00:00.000000Z - 2012-05-10T00:00:00.000000Z | 100.0 Hz, 8640001 samples\n",
       "XC.PIG2..HHN | 2012-05-09T00:00:00.000000Z - 2012-05-10T00:00:00.000000Z | 100.0 Hz, 8640001 samples\n",
       "XC.PIG2..HHZ | 2012-05-09T00:00:00.000000Z - 2012-05-10T00:00:00.000000Z | 100.0 Hz, 8640001 samples"
      ]
     },
     "execution_count": 40,
     "metadata": {},
     "output_type": "execute_result"
    }
   ],
   "source": [
    "# remove instrumental response to velocity for extensional wave stress estimation\n",
    "st_vel.remove_response(inventory=inv,pre_filt=freq,output=\"VEL\")"
   ]
  },
  {
   "cell_type": "code",
   "execution_count": 43,
   "id": "a7fbfa3c-9c58-4c08-a77f-7f380b5e4f95",
   "metadata": {},
   "outputs": [
    {
     "name": "stdout",
     "output_type": "stream",
     "text": [
      "Maximum HHT velocity: 0.00173067350154 m/s\n",
      "Maximum HHR velocity: 0.00237279151738 m/s\n",
      "Maximum HHZ velocity: 0.000237681458004 m/s\n"
     ]
    }
   ],
   "source": [
    "# rotate velocity seismogram to calculated backazimuth for May 9 riftquake and report max amplitudes\n",
    "st_vel.rotate(method=\"NE->RT\", back_azimuth=327) \n",
    "print(\"Maximum \" + st_vel[0].stats.channel + \" velocity: \" + str(max(abs(st_vel[0].data))) + \" m/s\")\n",
    "print(\"Maximum \" + st_vel[1].stats.channel + \" velocity: \" + str(max(abs(st_vel[1].data))) + \" m/s\")\n",
    "print(\"Maximum \" + st_vel[2].stats.channel + \" velocity: \" + str(max(abs(st_vel[2].data))) + \" m/s\")"
   ]
  },
  {
   "cell_type": "code",
   "execution_count": 46,
   "id": "134701e5-f3ad-4485-ab3f-c32bb7b7692f",
   "metadata": {},
   "outputs": [
    {
     "name": "stdout",
     "output_type": "stream",
     "text": [
      "Maximum transverse extensional stress: 3.58249414818 kPa\n",
      "Maximum radial extensional stress: 4.91167844098 kPa\n"
     ]
    }
   ],
   "source": [
    "# set xxx extensional wave impedance tensor component for typical values of ice, which has unit of kPa/(mm/s)\n",
    "Z_xxx = 2.07\n",
    "\n",
    "# convert to kPa/(m/s)\n",
    "Z_xxx = Z_xxx * 1000\n",
    "\n",
    "# estimate magnitude of maximum transverse extensional wave stresses using transverse velocity seismogram\n",
    "sigma_e_transverse = Z_xxx*max(abs(st_vel[0].data))\n",
    "\n",
    "# estimate magnitude of maximum radial extensional wave stresses using radial velocity seismogram\n",
    "sigma_e_radial = Z_xxx*max(abs(st_vel[1].data))\n",
    "\n",
    "# print the estimated stresses\n",
    "print(\"Maximum transverse extensional stress: \" + str(sigma_e_transverse) + \" kPa\")\n",
    "print(\"Maximum radial extensional stress: \" + str(sigma_e_radial) + \" kPa\")"
   ]
  },
  {
   "cell_type": "code",
   "execution_count": 50,
   "id": "abd26c7a-ad0e-45d6-be0a-41376cfae3de",
   "metadata": {},
   "outputs": [
    {
     "name": "stdout",
     "output_type": "stream",
     "text": [
      "Maximum HHT displacement: 0.000359065132365 m\n",
      "Maximum HHR displacement: 0.000535124247896 m\n",
      "Maximum HHZ displacement: 0.000194313696805 m\n"
     ]
    }
   ],
   "source": [
    "# remove instrumental response to displacement\n",
    "st_disp.remove_response(inventory=inv,pre_filt=freq,output=\"DISP\")\n",
    "\n",
    "# rotate velocity seismogram to calculated backazimuth for May 9 riftquake and report max amplitudes\n",
    "st_disp.rotate(method=\"NE->RT\", back_azimuth = 327) \n",
    "print(\"Maximum \" + st_disp[0].stats.channel + \" displacement: \" + str(max(abs(st_disp[0].data))) + \" m\")\n",
    "print(\"Maximum \" + st_disp[1].stats.channel + \" displacement: \" + str(max(abs(st_disp[1].data))) + \" m\")\n",
    "print(\"Maximum \" + st_disp[2].stats.channel + \" displacement: \" + str(max(abs(st_disp[2].data))) + \" m\")"
   ]
  },
  {
   "cell_type": "code",
   "execution_count": null,
   "id": "e1f72a1e-1d00-4c8f-b6ae-af993cd4b561",
   "metadata": {},
   "outputs": [],
   "source": []
  }
 ],
 "metadata": {
  "kernelspec": {
   "display_name": "Python 3",
   "language": "python",
   "name": "python3"
  },
  "language_info": {
   "codemirror_mode": {
    "name": "ipython",
    "version": 3
   },
   "file_extension": ".py",
   "mimetype": "text/x-python",
   "name": "python",
   "nbconvert_exporter": "python",
   "pygments_lexer": "ipython3",
   "version": "3.7.10"
  }
 },
 "nbformat": 4,
 "nbformat_minor": 5
}
