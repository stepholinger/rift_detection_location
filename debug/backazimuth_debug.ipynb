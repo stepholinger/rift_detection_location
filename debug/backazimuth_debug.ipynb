{
 "cells": [
  {
   "cell_type": "code",
   "execution_count": 5,
   "id": "4301571f-62c7-4d80-88bd-e5cb755bd26e",
   "metadata": {},
   "outputs": [],
   "source": [
    "import numpy as np\n",
    "import pathlib\n",
    "import time\n",
    "import h5py\n",
    "import obspy\n",
    "import types\n",
    "import pyasdf\n",
    "import pickle\n",
    "import rasterio\n",
    "import math\n",
    "from datetime import datetime\n",
    "from scipy.signal import butter\n",
    "from scipy.signal import filtfilt\n",
    "import matplotlib.pyplot as plt\n",
    "from location.compute_backazimuths_debug import compute_backazimuths\n",
    "from figures.figures import plot_backazimuths_on_imagery"
   ]
  },
  {
   "cell_type": "code",
   "execution_count": 3,
   "id": "bef854dc-886f-4e53-9a0d-55c24a51d5ba",
   "metadata": {},
   "outputs": [],
   "source": [
    "import numpy as np\n",
    "import obspy\n",
    "from obspy.signal.cross_correlation import correlate\n",
    "from obspy.signal.cross_correlation import xcorr_max\n",
    "from sklearn.decomposition import PCA\n",
    "from pyproj import Proj,transform\n",
    "from datetime import datetime\n",
    "from datetime import timedelta\n",
    "import types\n",
    "import time\n",
    "from collections import Counter\n",
    "import scipy\n",
    "import pathlib\n",
    "import glob\n",
    "import copy\n",
    "import multiprocessing\n",
    "import pickle\n",
    "from pyproj import Transformer\n"
   ]
  },
  {
   "cell_type": "code",
   "execution_count": 4,
   "id": "fa17e68f-073e-47e2-b55c-dc8a7efcd4be",
   "metadata": {},
   "outputs": [],
   "source": [
    "'''\n",
    "\n",
    "Download data and remove instrumental response\n",
    "\n",
    "'''\n",
    "\n",
    "# specify path to save data- folders will be created in this directory\n",
    "data_path = \"/media/Data/Data/PIG/MSEED/\"\n",
    "xml_path = \"/media/Data/Data/PIG/XML/HH/\"\n",
    "\n",
    "# pull the data from IRIS servers\n",
    "\n",
    "# remove instrumental response\n",
    "\n",
    "# update path to data so subsequent cells will use data with the instrumental response removed\n",
    "data_path = data_path + \"noIR/\""
   ]
  },
  {
   "cell_type": "code",
   "execution_count": null,
   "id": "f5fb7430-3da2-468b-b380-75808e728bd8",
   "metadata": {
    "jupyter": {
     "source_hidden": true
    },
    "tags": []
   },
   "outputs": [],
   "source": [
    "# run the code on a particular event\n",
    "detection_times = np.array([datetime(2012,3,26,8,56)])\n",
    "\n",
    "# initialize location parameter object and set parameters for backazimuth computation\n",
    "l = types.SimpleNamespace()\n",
    "l.win_len = 10\n",
    "l.slide = 5\n",
    "l.trace_len = 500\n",
    "l.num_steps = int((l.trace_len-l.win_len)/l.slide)\n",
    "l.stations = [\"PIG1\",\"PIG2\",\"PIG3\",\"PIG4\",\"PIG5\"]\n",
    "\n",
    "# set signal-to-noise ratio for throwing out stations in backazimuth computation\n",
    "l.snr_threshold = 0\n",
    "\n",
    "# set sta/lta ratio for throwing out individual windows in backazimuth computation\n",
    "l.stalta_threshold = 1\n",
    "\n",
    "# specify parameters for cross correlation based determination of station of first arrival\n",
    "l.max_shift = 1000\n",
    "l.freq = [0.05,1]\n",
    "l.fs = 100\n",
    "\n",
    "# specify paths to data and metadata\n",
    "l.data_path = data_path\n",
    "l.xml_path = xml_path\n",
    "l.filename = \"outputs/locations/single_event_test\"\n",
    "l.n_procs = 10\n",
    "\n",
    "b = compute_backazimuths(l,detection_times)"
   ]
  },
  {
   "cell_type": "code",
   "execution_count": null,
   "id": "364bb185-354d-4802-a35c-a90c03bd9d94",
   "metadata": {
    "tags": []
   },
   "outputs": [],
   "source": [
    "'''\n",
    "\n",
    "Test backazimuths for all events in old catalog\n",
    "\n",
    "'''\n",
    "\n",
    "# load the old catalog\n",
    "catalog_file = h5py.File('/home/setholinger/Documents/Projects/PIG/detections/templateMatch/multiTemplate/run3/detection_times.h5','r')\n",
    "detection_timestamps = list(catalog_file[\"times\"])\n",
    "catalog_file.close()\n",
    "detection_times = []\n",
    "for i in range(len(detection_timestamps)):\n",
    "    detection_times.append(datetime.utcfromtimestamp(detection_timestamps[i]))\n",
    "\n",
    "# load the old clustering results\n",
    "cluster_file = h5py.File(\"/home/setholinger/Documents/Projects/PIG/detections/templateMatch/multiTemplate/run3/short_3D_clustering/modified_k_shape/2/2_cluster_predictions_0.05-1Hz.h5\",\"r\")\n",
    "predictions = np.array(list(cluster_file[\"cluster_index\"]))\n",
    "cluster_file.close()\n",
    "\n",
    "# initialize location parameter object and set parameters for backazimuth computation\n",
    "l = types.SimpleNamespace()\n",
    "l.win_len = 10\n",
    "l.slide = 5\n",
    "l.trace_len = 500\n",
    "l.num_steps = int((l.trace_len-l.win_len)/l.slide)\n",
    "l.stations = [\"PIG1\",\"PIG2\",\"PIG3\",\"PIG4\",\"PIG5\"]\n",
    "\n",
    "# set signal-to-noise ratio for throwing out stations in backazimuth computation\n",
    "l.snr_threshold = 0\n",
    "\n",
    "# set sta/lta ratio for throwing out individual windows in backazimuth computation\n",
    "l.stalta_threshold = 1\n",
    "\n",
    "# specify parameters for cross correlation based determination of station of first arrival\n",
    "l.max_shift = 1000\n",
    "l.freq = [0.05,1]\n",
    "l.fs = 100\n",
    "\n",
    "# specify paths to data and metadata\n",
    "l.data_path = data_path\n",
    "l.xml_path = xml_path\n",
    "l.filename = \"outputs/locations/old_catalog_backazimuth_test.pickle\"\n",
    "l.n_procs = 10\n",
    "\n",
    "b = compute_backazimuths(l,np.array(detection_times)[predictions == 1])\n",
    "    \n",
    "# save the output\n",
    "baz_file = open(l.filename, \"wb\")\n",
    "pickle.dump(b, baz_file)"
   ]
  },
  {
   "cell_type": "code",
   "execution_count": null,
   "id": "7b3ded42-12fe-4e1a-a540-912286388b74",
   "metadata": {},
   "outputs": [],
   "source": [
    "'''\n",
    "\n",
    "Make some plots of backazimuthal distribution\n",
    "\n",
    "'''\n",
    "\n",
    "# load the results of polarization analysis\n",
    "baz_file = open(\"outputs/locations/old_catalog_backazimuth_test.pickle\", \"rb\")\n",
    "b = pickle.load(baz_file)\n",
    "baz_file.close()\n",
    "\n",
    "# make a basic histogram\n",
    "plt.hist(b.backazimuths,bins=np.linspace(0,360,37))\n",
    "plt.xlabel(\"Backazimuth\")\n",
    "plt.ylabel(\"Number of Events\")\n",
    "plt.title(\"All Event Backazimuths\")\n",
    "plt.show()\n",
    "\n",
    "# # load clustering results\n",
    "# cluster_file = h5py.File(\"outputs/clustering/2_cluster_results.h5\",\"r\")\n",
    "# predictions = np.array(list(cluster_file[\"cluster_index\"]))\n",
    "# centroids = list(cluster_file[\"centroids\"])\n",
    "# cluster_file.close()\n",
    "\n",
    "# # plot backazimuthal distribution for each cluster\n",
    "# for cluster in range(len(centroids)):\n",
    "    \n",
    "#     plt.hist(b.backazimuths[predictions == cluster],bins=np.linspace(0,360,37))\n",
    "#     plt.xlabel(\"Backazimuth\")\n",
    "#     plt.ylabel(\"Number of Events\")\n",
    "#     plt.title(\"Cluster \" + str(cluster) + \" Backazimuths\")\n",
    "#     plt.show()\n"
   ]
  },
  {
   "cell_type": "code",
   "execution_count": null,
   "id": "f0e40270-e3aa-4680-ac11-d7cad4c55e14",
   "metadata": {},
   "outputs": [],
   "source": [
    "'''\n",
    "\n",
    "Make the backazimuth figure in Olinger et al, 2021\n",
    "\n",
    "'''\n",
    "\n",
    "\n",
    "# load the results of polarization analysis\n",
    "baz_file = open(\"outputs/locations/old_catalog_backazimuth_test.pickle\", \"rb\")\n",
    "b = pickle.load(baz_file)\n",
    "baz_file.close()\n",
    "\n",
    "# load clustering results\n",
    "cluster_file = h5py.File(\"outputs/clustering/2_cluster_results.h5\",\"r\")\n",
    "predictions = np.array(list(cluster_file[\"cluster_index\"]))\n",
    "centroids = list(cluster_file[\"centroids\"])\n",
    "cluster_file.close()\n",
    "\n",
    "# get backazimuths of only the events in the dispersive cluster (cluster 0)\n",
    "backazimuths = b.backazimuths\n",
    "\n",
    "# open LANDSAT imagery file\n",
    "file = \"data/imagery/LC08_L1GT_001113_20131012_20170429_01_T2_B4.TIF\"\n",
    "sat_imagery = rasterio.open(file)\n",
    "\n",
    "# make the figure\n",
    "plot_backazimuths_on_imagery(backazimuths,sat_imagery,xml_path)"
   ]
  },
  {
   "cell_type": "code",
   "execution_count": null,
   "id": "73ed9553-b6d1-4645-83d5-e1c7ec623c57",
   "metadata": {},
   "outputs": [],
   "source": [
    "def get_baz(pca_components):\n",
    "    # based on which quadrant we're in, use the appropriate triangle side ratios for arctan\n",
    "    if pca_components[0] > 0 and pca_components[1] > 0:\n",
    "        baz = np.arctan(abs(pca_components[0]/pca_components[1]))*180/np.pi\n",
    "    if pca_components[0] > 0 and pca_components[1] < 0:\n",
    "        baz = np.arctan(abs(pca_components[1]/pca_components[0]))*180/np.pi + 90\n",
    "    if pca_components[0] < 0 and pca_components[1] < 0:\n",
    "        baz = np.arctan(abs(pca_components[0]/pca_components[1]))*180/np.pi + 180\n",
    "    if pca_components[0] < 0 and pca_components[1] > 0:\n",
    "        baz = np.arctan(abs(pca_components[1]/pca_components[0]))*180/np.pi + 270\n",
    "    return baz"
   ]
  },
  {
   "cell_type": "code",
   "execution_count": null,
   "id": "e16d065e-0d56-48d9-bc33-450fb26bc609",
   "metadata": {},
   "outputs": [],
   "source": [
    "# test the new and old weighted averaging code against each other\n",
    "import random\n",
    "\n",
    "# generate test data\n",
    "x = np.random.rand(10)-0.5\n",
    "y = np.random.rand(10)-0.5\n",
    "norms = np.linalg.norm(np.stack((x,y),axis=1),axis=1)"
   ]
  },
  {
   "cell_type": "code",
   "execution_count": null,
   "id": "afdabf93-02e6-4383-87c8-1df5d13f738a",
   "metadata": {},
   "outputs": [],
   "source": [
    "# old method\n",
    "baz = []\n",
    "for i in range(len(x)):\n",
    "    baz.append(get_baz([x[i],y[i]]))\n",
    "baz = np.array(baz)\n",
    "\n",
    "y_ = np.sin(baz*np.pi/180)\n",
    "x_ = np.cos(baz*np.pi/180)\n",
    "               \n",
    "weighted_avg_y = np.nansum(y_*norms)/np.nansum(norms)\n",
    "weighted_avg_x = np.nansum(x_*norms)/np.nansum(norms)\n",
    "weighted_average_event_backazimuth = np.arctan2(weighted_avg_y,weighted_avg_x)*180/np.pi\n",
    "if weighted_average_event_backazimuth < 0:\n",
    "    weighted_average_event_backazimuth = weighted_average_event_backazimuth + 360\n",
    "else:\n",
    "    weighted_average_event_backazimuth = weighted_average_event_backazimuth\n",
    "print(\"old method: \" + str(weighted_average_event_backazimuth))"
   ]
  },
  {
   "cell_type": "code",
   "execution_count": null,
   "id": "ac9ce39d-f315-4efb-81d9-01e31efb37d4",
   "metadata": {},
   "outputs": [],
   "source": [
    "# new method\n",
    "denom = np.sum(norms)\n",
    "avg_weighted_x = np.sum(x*norms)/denom\n",
    "avg_weighted_y = np.sum(y*norms)/denom\n",
    "weighted_average_event_backazimuth = get_baz([avg_weighted_x,avg_weighted_y])\n",
    "print(\"new method: \" + str(weighted_average_event_backazimuth))"
   ]
  },
  {
   "cell_type": "code",
   "execution_count": 48,
   "id": "48009183-ef9a-4903-a8d7-6b1a1f206dec",
   "metadata": {},
   "outputs": [],
   "source": [
    "# test individual functions\n",
    "\n",
    "def get_station_coordinates(l):\n",
    "    stat_coords = []\n",
    "    inv = obspy.read_inventory(l.xml_path + \"/*\")\n",
    "    channels = inv.get_contents()['channels']\n",
    "    for channel in channels:\n",
    "        lat = inv.get_coordinates(channel)[\"latitude\"]\n",
    "        lon = inv.get_coordinates(channel)[\"longitude\"]\n",
    "        stat_coords.append([lon,lat])\n",
    "    _, idx = np.unique(stat_coords,axis=0,return_index=True)\n",
    "    stat_coords = np.array(stat_coords)[np.sort(idx)]\n",
    "    return stat_coords\n",
    "\n",
    "\n",
    "\n",
    "def get_array_centroid(station_grid_coords):\n",
    "    # convert station coordinates to x and y and take average station location\n",
    "    avg_stat_x = np.mean(station_grid_coords[:,0])\n",
    "    avg_stat_y = np.mean(station_grid_coords[:,1])\n",
    "    p = Proj(\"EPSG:3031\", preserve_units=False)\n",
    "    avg_stat_lon, avg_stat_lat = p(avg_stat_x, avg_stat_y, inverse=True)\n",
    "    return [[avg_stat_lon,avg_stat_lat],[avg_stat_x,avg_stat_y]]\n",
    "\n",
    "\n",
    "\n",
    "def get_station_locations(l):\n",
    "    p = Proj(\"EPSG:3031\", preserve_units=False)\n",
    "    station_grid_coords = p(l.station_lon_lat_coords[:,0],l.station_lon_lat_coords[:,1])\n",
    "    return np.stack(station_grid_coords,axis=1)\n",
    "\n",
    "\n"
   ]
  },
  {
   "cell_type": "code",
   "execution_count": 24,
   "id": "a33e630d-e3a5-4c7e-ab4c-4661f7209557",
   "metadata": {
    "tags": []
   },
   "outputs": [],
   "source": [
    "# initialize location parameter object and set parameters for backazimuth computation\n",
    "l = types.SimpleNamespace()\n",
    "l.win_len = 10\n",
    "l.slide = 5\n",
    "l.trace_len = 500\n",
    "l.num_steps = int((l.trace_len-l.win_len)/l.slide)\n",
    "l.stations = [\"PIG1\",\"PIG2\",\"PIG3\",\"PIG4\",\"PIG5\"]\n",
    "\n",
    "# set signal-to-noise ratio for throwing out stations in backazimuth computation\n",
    "l.snr_threshold = 0\n",
    "\n",
    "# set sta/lta ratio for throwing out individual windows in backazimuth computation\n",
    "l.stalta_threshold = 1\n",
    "\n",
    "# specify parameters for cross correlation based determination of station of first arrival\n",
    "l.max_shift = 1000\n",
    "l.freq = [0.05,1]\n",
    "l.fs = 100\n",
    "\n",
    "# specify paths to data and metadata\n",
    "l.data_path = data_path\n",
    "l.xml_path = xml_path\n",
    "l.filename = \"outputs/locations/old_catalog_backazimuth_test.pickle\"\n",
    "l.n_procs = 10"
   ]
  },
  {
   "cell_type": "code",
   "execution_count": 49,
   "id": "9ccb1552-b4f3-4de5-90eb-0bd742e14f8b",
   "metadata": {
    "tags": []
   },
   "outputs": [],
   "source": [
    "# THIS CORRECTLY CALCULATES ANGLES IN RELATION TO EPSG 3031 GRID NORTH \n",
    "# BUT\n",
    "# THIS IS __NOT__ THE SAME AS THE NORTH THE SEISMOMETERS SEE\n",
    "\n",
    "def get_station_angles(l):\n",
    "    station_angles = []\n",
    "    for i in range(len(l.station_grid_coords)):\n",
    "        x = (l.station_grid_coords[i,0]-l.array_grid_centroid[0])\n",
    "        y = (l.station_grid_coords[i,1]-l.array_grid_centroid[1])\n",
    "        angle = np.arctan2(y,x)*180/np.pi\n",
    "        \n",
    "        # subtract from 90 since the returned angles are in relation to 0 on the unit circle\n",
    "        # we want them in relation to grid north for epsg:3031\n",
    "        angle = 90 - angle\n",
    "        if angle < 0:\n",
    "            angle = angle + 360\n",
    "        \n",
    "        station_angles.append(angle)\n",
    "    return station_angles\n",
    "\n",
    "l.station_lon_lat_coords = get_station_coordinates(l)\n",
    "l.station_grid_coords = get_station_locations(l)\n",
    "l.array_lon_lat_centroid = get_array_centroid(l.station_grid_coords)[0]\n",
    "l.array_grid_centroid = get_array_centroid(l.station_grid_coords)[1]\n",
    "l.station_angles = get_station_angles(l)"
   ]
  },
  {
   "cell_type": "code",
   "execution_count": 50,
   "id": "18bce0ce-46a6-4ac4-9230-92046f6e71d8",
   "metadata": {},
   "outputs": [
    {
     "data": {
      "text/plain": [
       "[16.125283537003725,\n",
       " 202.14777530425908,\n",
       " 308.27552288402001,\n",
       " 17.821746502350862,\n",
       " 146.8679844819589]"
      ]
     },
     "execution_count": 50,
     "metadata": {},
     "output_type": "execute_result"
    }
   ],
   "source": [
    "l.station_angles"
   ]
  },
  {
   "cell_type": "code",
   "execution_count": 80,
   "id": "57d88e7a-3e3c-40e3-bbd2-6412c98102a5",
   "metadata": {},
   "outputs": [
    {
     "data": {
      "image/png": "[encoded data removed]",
      "text/plain": [
       "<Figure size 432x288 with 1 Axes>"
      ]
     },
     "metadata": {
      "needs_background": "light"
     },
     "output_type": "display_data"
    },
    {
     "data": {
      "image/png": "[encoded data removed]",
      "text/plain": [
       "<Figure size 432x288 with 1 Axes>"
      ]
     },
     "metadata": {
      "needs_background": "light"
     },
     "output_type": "display_data"
    }
   ],
   "source": [
    "# plot the array in EPSG:3031\n",
    "l.array_lon_lat_centroid = get_array_centroid(l.station_grid_coords)[0]\n",
    "l.array_grid_centroid = get_array_centroid(l.station_grid_coords)[1]\n",
    "labels = [\"PIG1\",\"PIG2\",\"PIG3\",\"PIG4\",\"PIG5\"]\n",
    "fig, ax = plt.subplots()\n",
    "plt.scatter(l.array_grid_centroid[0],l.array_grid_centroid[1])\n",
    "for i, txt in enumerate(labels):\n",
    "    plt.scatter(l.station_grid_coords[i,0],l.station_grid_coords[i,1])\n",
    "    ax.annotate(txt, (l.station_grid_coords[i,0], l.station_grid_coords[i,1]))\n",
    "ax.set_aspect('equal')\n",
    "plt.show()\n",
    "\n",
    "fig, ax = plt.subplots()\n",
    "plt.scatter(l.array_grid_centroid[1],l.array_grid_centroid[0]*-1)\n",
    "for i, txt in enumerate(labels):\n",
    "    plt.scatter(l.station_grid_coords[i,1],l.station_grid_coords[i,0]*-1)\n",
    "    ax.annotate(txt, (l.station_grid_coords[i,1], l.station_grid_coords[i,0]*-1))\n",
    "plt.show()\n"
   ]
  },
  {
   "cell_type": "code",
   "execution_count": 57,
   "id": "6e5b463f-16c2-4a73-b3fa-62427d55988a",
   "metadata": {},
   "outputs": [
    {
     "data": {
      "image/png": "[encoded data removed]",
      "text/plain": [
       "<Figure size 432x288 with 1 Axes>"
      ]
     },
     "metadata": {
      "needs_background": "light"
     },
     "output_type": "display_data"
    }
   ],
   "source": [
    "# plot the array in lat lon\n",
    "l.array_lon_lat_centroid = get_array_centroid(l.station_grid_coords)[0]\n",
    "l.array_grid_centroid = get_array_centroid(l.station_grid_coords)[1]\n",
    "labels = [\"PIG1\",\"PIG2\",\"PIG3\",\"PIG4\",\"PIG5\"]\n",
    "fig, ax = plt.subplots()\n",
    "plt.scatter(l.array_lon_lat_centroid[0],l.array_lon_lat_centroid[1])\n",
    "for i, txt in enumerate(labels):\n",
    "    plt.scatter(l.station_lon_lat_coords[i,0],l.station_lon_lat_coords[i,1])\n",
    "    ax.annotate(txt, (l.station_lon_lat_coords[i,0], l.station_lon_lat_coords[i,1]))\n",
    "ax.set_aspect('equal')\n",
    "plt.show()"
   ]
  },
  {
   "cell_type": "code",
   "execution_count": 61,
   "id": "9f261282-9d8d-4ec4-a0b2-fcbae1cad585",
   "metadata": {
    "tags": []
   },
   "outputs": [
    {
     "data": {
      "image/png": "[encoded data removed]",
      "text/plain": [
       "<Figure size 432x288 with 1 Axes>"
      ]
     },
     "metadata": {
      "needs_background": "light"
     },
     "output_type": "display_data"
    }
   ],
   "source": [
    "# plot the array in lat lon with origin at array centroid\n",
    "l.array_lon_lat_centroid = get_array_centroid(l.station_grid_coords)[0]\n",
    "l.array_grid_centroid = get_array_centroid(l.station_grid_coords)[1]\n",
    "labels = [\"PIG1\",\"PIG2\",\"PIG3\",\"PIG4\",\"PIG5\"]\n",
    "fig, ax = plt.subplots()\n",
    "plt.scatter(0,0)\n",
    "for i, txt in enumerate(labels):\n",
    "    plt.scatter(l.station_lon_lat_coords[i,0]-l.array_lon_lat_centroid[0],l.station_lon_lat_coords[i,1]-l.array_lon_lat_centroid[1])\n",
    "    ax.annotate(txt, (l.station_lon_lat_coords[i,0]-l.array_lon_lat_centroid[0], l.station_lon_lat_coords[i,1]-l.array_lon_lat_centroid[1]))\n",
    "ax.set_aspect('equal')\n",
    "\n",
    "plt.show()"
   ]
  },
  {
   "cell_type": "code",
   "execution_count": 75,
   "id": "35d2eace-6352-4915-b4e3-f218b05213ed",
   "metadata": {},
   "outputs": [
    {
     "data": {
      "text/plain": [
       "array([-144.90884365,  525.36031401,  692.22998773, -546.84710122,\n",
       "       -524.63501756])"
      ]
     },
     "execution_count": 75,
     "metadata": {},
     "output_type": "execute_result"
    }
   ],
   "source": [
    "station_lat_diffs"
   ]
  },
  {
   "cell_type": "code",
   "execution_count": 95,
   "id": "0446b775-7ace-4dc6-afe4-6d61ee030535",
   "metadata": {
    "tags": []
   },
   "outputs": [
    {
     "data": {
      "image/png": "[encoded data removed]",
      "text/plain": [
       "<Figure size 432x288 with 1 Axes>"
      ]
     },
     "metadata": {
      "needs_background": "light"
     },
     "output_type": "display_data"
    }
   ],
   "source": [
    "from pyproj import Geod\n",
    "\n",
    "# use pyproj to estimate meters per degree of longitude and latitude, centered on the array centroid\n",
    "geod = Geod(ellps=\"WGS84\")\n",
    "m_per_lon = geod.line_length([l.array_lon_lat_centroid[0]-0.5,l.array_lon_lat_centroid[0]+0.5],[l.array_lon_lat_centroid[1],l.array_lon_lat_centroid[1]])\n",
    "m_per_lat = geod.line_length([l.array_lon_lat_centroid[0],l.array_lon_lat_centroid[0]],[l.array_lon_lat_centroid[1]-0.5,l.array_lon_lat_centroid[1]+0.5])\n",
    "\n",
    "# get differences from array centroid in lat/lon and convert to meters\n",
    "station_lon_diffs = (l.station_lon_lat_coords[:,0]-l.array_lon_lat_centroid[0])*m_per_lon\n",
    "station_lat_diffs = (l.station_lon_lat_coords[:,1]-l.array_lon_lat_centroid[1])*m_per_lat\n",
    "\n",
    "# plot the array in m converted from lat lon with origin at array centroid\n",
    "l.array_lon_lat_centroid = get_array_centroid(l.station_grid_coords)[0]\n",
    "l.array_grid_centroid = get_array_centroid(l.station_grid_coords)[1]\n",
    "labels = [\"PIG1\",\"PIG2\",\"PIG3\",\"PIG4\",\"PIG5\"]\n",
    "fig, ax = plt.subplots()\n",
    "plt.scatter(0,0)\n",
    "for i, txt in enumerate(labels):\n",
    "    plt.scatter(station_lon_diffs[i],station_lat_diffs[i])\n",
    "    ax.annotate(txt, (station_lon_diffs[i],station_lat_diffs[i]))\n",
    "ax.set_aspect('equal')\n",
    "plt.show()"
   ]
  },
  {
   "cell_type": "code",
   "execution_count": 119,
   "id": "386ccf55-924a-42bb-a658-c40b042427c3",
   "metadata": {},
   "outputs": [],
   "source": [
    "# THIS CORRECTLY CALCULATES ANGLES IN RELATION TO TRUE NORTH\n",
    "\n",
    "def get_station_coordinates(l):\n",
    "    stat_coords = []\n",
    "    inv = obspy.read_inventory(l.xml_path + \"/*\")\n",
    "    channels = inv.get_contents()['channels']\n",
    "    for channel in channels:\n",
    "        lat = inv.get_coordinates(channel)[\"latitude\"]\n",
    "        lon = inv.get_coordinates(channel)[\"longitude\"]\n",
    "        stat_coords.append([lon,lat])\n",
    "    _, idx = np.unique(stat_coords,axis=0,return_index=True)\n",
    "    stat_coords = np.array(stat_coords)[np.sort(idx)]\n",
    "    return stat_coords\n",
    "\n",
    "\n",
    "\n",
    "\n",
    "\n",
    "def get_station_grid_locations(l):\n",
    "    # use pyproj to estimate meters per degree of longitude and latitude, centered on the array centroid\n",
    "    geod = Geod(ellps=\"WGS84\")\n",
    "    m_per_lon = geod.line_length([l.array_centroid[0]-0.5,l.array_centroid[0]+0.5],[l.array_centroid[1],l.array_centroid[1]])\n",
    "    m_per_lat = geod.line_length([l.array_centroid[0],l.array_centroid[0]],[l.array_centroid[1]-0.5,l.array_centroid[1]+0.5])\n",
    "\n",
    "    # get differences from array centroid in lat/lon and convert to meters\n",
    "    station_lon_diffs = (l.station_lon_lat_coords[:,0]-l.array_lon_lat_centroid[0])*m_per_lon\n",
    "    station_lat_diffs = (l.station_lon_lat_coords[:,1]-l.array_lon_lat_centroid[1])*m_per_lat\n",
    "    return np.stack((station_lon_diffs,station_lat_diffs),axis=1)\n",
    "\n",
    "\n",
    "\n",
    "def get_station_angles(l):\n",
    "    station_angles = []\n",
    "    for i in range(len(l.station_grid_coords)):\n",
    "        x = (l.station_grid_coords[i,0])\n",
    "        y = (l.station_grid_coords[i,1])\n",
    "        angle = np.arctan2(y,x)*180/np.pi\n",
    "        \n",
    "        # subtract from 90 since the returned angles are in relation to 0 on the unit circle\n",
    "        # we want them in relation to grid north for epsg:3031\n",
    "        angle = 90 - angle\n",
    "        if angle < 0:\n",
    "            angle = angle + 360\n",
    "        \n",
    "        station_angles.append(angle)\n",
    "    return station_angles\n"
   ]
  },
  {
   "cell_type": "code",
   "execution_count": 120,
   "id": "30e48767-a388-46d0-8c00-1f4abea9e2b8",
   "metadata": {},
   "outputs": [],
   "source": [
    "\n",
    "# get home directory path\n",
    "home_dir = str(pathlib.Path().absolute())\n",
    "\n",
    "# get useful geometric information about the array\n",
    "l.station_lon_lat_coords = get_station_coordinates(l)\n",
    "l.array_centroid = np.mean(l.station_lon_lat_coords,axis=0)\n",
    "l.station_grid_coords = get_station_grid_locations(l)\n",
    "l.station_angles = get_station_angles(l)\n"
   ]
  },
  {
   "cell_type": "code",
   "execution_count": 134,
   "id": "070a9d77-6a7e-46d4-a465-37876c93be98",
   "metadata": {},
   "outputs": [],
   "source": [
    "def compute_baz_old(component):\n",
    "    # based on which quadrant we're in, use the appropriate triangle side ratios for arctan\n",
    "    if component[0] > 0 and component[1] > 0:\n",
    "        baz = np.arctan(abs(component[0]/component[1]))*180/np.pi\n",
    "    if component[0] > 0 and component[1] < 0:\n",
    "        baz = np.arctan(abs(component[1]/component[0]))*180/np.pi + 90\n",
    "    if component[0] < 0 and component[1] < 0:\n",
    "        baz = np.arctan(abs(component[0]/component[1]))*180/np.pi + 180\n",
    "    if component[0] < 0 and component[1] > 0:\n",
    "        baz = np.arctan(abs(component[1]/component[0]))*180/np.pi + 270\n",
    "    return baz\n"
   ]
  },
  {
   "cell_type": "code",
   "execution_count": 135,
   "id": "6ec117eb-25a9-4a16-b198-0b194d80f615",
   "metadata": {},
   "outputs": [],
   "source": [
    "def compute_baz_new(component):\n",
    "    event_baz = 90 - np.arctan2(component[1],component[0])*180/np.pi\n",
    "    if event_baz < 0:\n",
    "        event_baz = event_baz + 360\n",
    "    return event_baz"
   ]
  },
  {
   "cell_type": "code",
   "execution_count": 161,
   "id": "d3e1a4a1-a0a3-4fce-baa7-9f89ce173462",
   "metadata": {},
   "outputs": [
    {
     "data": {
      "text/plain": [
       "185.71059313749964"
      ]
     },
     "execution_count": 161,
     "metadata": {},
     "output_type": "execute_result"
    }
   ],
   "source": [
    "compute_baz_new([-0.1,-1])"
   ]
  },
  {
   "cell_type": "code",
   "execution_count": 160,
   "id": "fe166ad3-f67e-4896-9671-469aee099295",
   "metadata": {},
   "outputs": [
    {
     "data": {
      "text/plain": [
       "185.71059313749964"
      ]
     },
     "execution_count": 160,
     "metadata": {},
     "output_type": "execute_result"
    }
   ],
   "source": [
    "compute_baz_old([-0.1,-1])"
   ]
  },
  {
   "cell_type": "code",
   "execution_count": null,
   "id": "8dab11bb-c86e-49e3-8f8d-74054ba07e15",
   "metadata": {},
   "outputs": [],
   "source": []
  },
  {
   "cell_type": "code",
   "execution_count": null,
   "id": "82afd352-e471-426c-b9fa-faf9d07a2708",
   "metadata": {},
   "outputs": [],
   "source": [
    "# get backazimuths for the subarray (PIG2,PIG4,PIG5) and the entire array for a particular pca correction method\n",
    "baz_file = open(\"outputs/locations/new_catalog_PIG1_PIG2_PIG3_PIG4_PIG5_new_pca_moving_centroid.pickle\", \"rb\")\n",
    "b = pickle.load(baz_file)\n",
    "baz_file.close()\n",
    "all_array_backazimuths = b.backazimuths\n",
    "baz_file = open(\"outputs/locations/new_catalog_PIG2_PIG4_PIG5_new_pca_moving_centroid.pickle\", \"rb\")\n",
    "b = pickle.load(baz_file)\n",
    "baz_file.close()\n",
    "all_subarray_backazimuths = b.backazimuths\n",
    "\n",
    "# load catalog and detection times\n",
    "ds = pyasdf.ASDFDataSet(\"outputs/detections/template_matching_catalog.h5\",mode='r')\n",
    "detection_times = get_detection_times(ds)\n",
    "\n",
    "# load clustering results\n",
    "cluster_file = h5py.File(\"outputs/clustering/2_cluster_results.h5\",\"r\")\n",
    "predictions = np.array(list(cluster_file[\"cluster_index\"]))\n",
    "centroids = list(cluster_file[\"centroids\"])\n",
    "cluster_file.close()\n",
    "\n",
    "array_backazimuths = all_array_backazimuths[predictions == 0]\n",
    "subarray_backazimuths = all_subarray_backazimuths[predictions == 0]"
   ]
  },
  {
   "cell_type": "code",
   "execution_count": null,
   "id": "e18e455f-ab85-418d-ab45-a9a7427b692a",
   "metadata": {},
   "outputs": [],
   "source": [
    "# find an event that has a rift tip backazimuth with PIG2,PIG4,PIG5 but a 180 flipped backazimuth when all stations are included\n",
    "ind = 4290\n",
    "print(array_backazimuths[ind])\n",
    "print(subarray_backazimuths[ind])\n",
    "\n",
    "# get the time for this event\n",
    "detection_time = detection_times[predictions==0][ind]\n",
    "print(detection_time)"
   ]
  },
  {
   "cell_type": "code",
   "execution_count": null,
   "id": "17762f7a-c544-4ed6-b498-c1427ceddf82",
   "metadata": {},
   "outputs": [],
   "source": [
    "# plot it to make sure it has a decent SNR so the exploration of arrival time estimation is meaningful\n",
    "#fname = \"/media/Data/Data/PIG/MSEED/noIR/PIG*/HH*/2013-06-27.PIG*.HH*.noIR.MSEED\"\n",
    "fname = \"/media/Data/Data/PIG/MSEED/noIR/PIG*/HH*/2013-05-02.PIG*.HH*.noIR.MSEED\"\n",
    "st = obspy.read(fname)\n",
    "st.filter(\"bandpass\",freqmin=0.05,freqmax=1.0)\n",
    "detection_utc_time = obspy.UTCDateTime(detection_time)\n",
    "st_event = st.copy()\n",
    "st_event.trim(starttime=detection_utc_time,endtime=detection_utc_time+500)\n",
    "st_event.taper(max_percentage=0.1, max_length=30.)\n",
    "st_event.plot();"
   ]
  },
  {
   "cell_type": "code",
   "execution_count": null,
   "id": "72456a62-50f7-4dc6-9b0b-740fcc9e0023",
   "metadata": {},
   "outputs": [],
   "source": [
    "from obspy.signal.cross_correlation import correlate\n",
    "from obspy.signal.cross_correlation import xcorr_max\n",
    "from collections import Counter\n",
    "\n",
    "def first_observed_arrival(st):\n",
    "    # cross correlate all traces and find station with largest shift\n",
    "    channels = [\"HHZ\",\"HHN\",\"HHE\"]\n",
    "    first_stat_vector = []\n",
    "    for chan in channels:\n",
    "        st_chan = st.select(channel=chan)\n",
    "        #st_chan.plot()\n",
    "        shifts = np.zeros(len(st_chan))\n",
    "        corrs = np.zeros(len(st_chan))\n",
    "        for j in range(len(st_chan)):\n",
    "            corr = correlate(st_chan[0], st_chan[j], 1000)\n",
    "            shift, correlation_coefficient = xcorr_max(corr,abs_max=True)\n",
    "            shifts[j] = shift\n",
    "            corrs[j] = correlation_coefficient\n",
    "#        print(shifts)\n",
    "        stat_idx = np.argmax(shifts)\n",
    "#        print(stat_idx)\n",
    "#        print(st_chan[stat_idx].stats.station)\n",
    "        first_stat_vector.append(st_chan[stat_idx].stats.station)\n",
    "    counts = Counter(first_stat_vector).most_common(2)\n",
    "    if len(counts) > 1:\n",
    "        if counts[0][1] == counts[1][1]:\n",
    "            first_stat = []\n",
    "        else:\n",
    "            first_stat = counts[0][0]\n",
    "    else:\n",
    "        first_stat = counts[0][0]\n",
    "#    print(first_stat_vector)\n",
    "    return first_stat"
   ]
  },
  {
   "cell_type": "code",
   "execution_count": null,
   "id": "5709bb8a-5bf7-438a-b95b-9e9c919be911",
   "metadata": {},
   "outputs": [],
   "source": [
    "# check the result of first arrival estimation for both the subset and whole array\n",
    "# they probably will be reversed\n",
    "array_first_arrival = first_observed_arrival(st_event)\n",
    "print(array_first_arrival)\n",
    "\n",
    "st_event_subarray = obspy.Stream()\n",
    "for s in [\"PIG2\",\"PIG4\",\"PIG5\"]:\n",
    "    st_event_subarray += st_event.select(station=s)\n",
    "subarray_first_arrival = first_observed_arrival(st_event_subarray)\n",
    "print(subarray_first_arrival)"
   ]
  },
  {
   "cell_type": "code",
   "execution_count": null,
   "id": "4ee7321b-2622-4cc7-950a-a6a8a2f85288",
   "metadata": {},
   "outputs": [],
   "source": [
    "# plot just the traces from individual stations\n",
    "st_event.select(station=array_first_arrival).plot();\n",
    "st_event.select(station=subarray_first_arrival).plot();"
   ]
  },
  {
   "cell_type": "code",
   "execution_count": null,
   "id": "b3e141c0-6399-4cd4-919f-2e4cc1d069e9",
   "metadata": {},
   "outputs": [],
   "source": [
    "# test first arrival between these two\n",
    "st_test = st_event.select(station=array_first_arrival)\n",
    "st_test += st_event.select(station=subarray_first_arrival)\n",
    "test_first_arrival = first_observed_arrival(st_test)\n",
    "print(test_first_arrival)"
   ]
  },
  {
   "cell_type": "code",
   "execution_count": null,
   "id": "42490544-1c02-429f-98e4-48d926e0918c",
   "metadata": {},
   "outputs": [],
   "source": [
    "# check number of quadrant 3 events for subarray vs whole array\n",
    "print(len(subarray_backazimuths[np.logical_and(subarray_backazimuths > 180,subarray_backazimuths < 270)]))\n",
    "print(len(array_backazimuths[np.logical_and(array_backazimuths > 180,array_backazimuths < 270)]))"
   ]
  },
  {
   "cell_type": "code",
   "execution_count": null,
   "id": "7dc9199f-c747-4086-910c-920a12833693",
   "metadata": {},
   "outputs": [],
   "source": [
    "# check number of quadrant 4 events for subarray vs whole array\n",
    "print(len(subarray_backazimuths[np.logical_and(subarray_backazimuths > 270,subarray_backazimuths < 360)]))\n",
    "print(len(array_backazimuths[np.logical_and(array_backazimuths > 270,array_backazimuths < 360)]))"
   ]
  },
  {
   "cell_type": "code",
   "execution_count": null,
   "id": "ba6f3e71-d576-4d98-95b2-352e3d281bfd",
   "metadata": {},
   "outputs": [],
   "source": [
    "string_list = [\"t\",\"i\"]\n",
    "\"o\" in string"
   ]
  }
 ],
 "metadata": {
  "kernelspec": {
   "display_name": "Python 3",
   "language": "python",
   "name": "python3"
  },
  "language_info": {
   "codemirror_mode": {
    "name": "ipython",
    "version": 3
   },
   "file_extension": ".py",
   "mimetype": "text/x-python",
   "name": "python",
   "nbconvert_exporter": "python",
   "pygments_lexer": "ipython3",
   "version": "3.7.10"
  }
 },
 "nbformat": 4,
 "nbformat_minor": 5
}
